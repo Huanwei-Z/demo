{
  "nbformat": 4,
  "nbformat_minor": 0,
  "metadata": {
    "colab": {
      "name": "ICP-1.ipynb",
      "provenance": [],
      "mount_file_id": "1nIntEsvT2XFJc7zebWS6uLFQiHSOTCuU",
      "authorship_tag": "ABX9TyNMcLRjkuoJL4GAIn2qeArg",
      "include_colab_link": true
    },
    "kernelspec": {
      "name": "python3",
      "display_name": "Python 3"
    },
    "language_info": {
      "name": "python"
    }
  },
  "cells": [
    {
      "cell_type": "markdown",
      "metadata": {
        "id": "view-in-github",
        "colab_type": "text"
      },
      "source": [
        "<a href=\"https://colab.research.google.com/github/Huanwei-Z/demo/blob/main/ICP_1.ipynb\" target=\"_parent\"><img src=\"https://colab.research.google.com/assets/colab-badge.svg\" alt=\"Open In Colab\"/></a>"
      ]
    },
    {
      "cell_type": "code",
      "metadata": {
        "id": "DASqU-s2lOF2"
      },
      "source": [
        "!pip install https://github.com/pandas-profiling/pandas-profiling/archive/master.zip"
      ],
      "execution_count": null,
      "outputs": []
    },
    {
      "cell_type": "code",
      "metadata": {
        "id": "9q6TI-cLs6-y"
      },
      "source": [
        "import pandas as pd\n",
        "import numpy as np\n"
      ],
      "execution_count": 7,
      "outputs": []
    },
    {
      "cell_type": "code",
      "metadata": {
        "id": "yessTAjztFeU"
      },
      "source": [
        "path='/content/drive/MyDrive/Data.csv'\n",
        "df= pd.read_csv(path)"
      ],
      "execution_count": 8,
      "outputs": []
    },
    {
      "cell_type": "code",
      "metadata": {
        "id": "ZWFp1aUktKzB"
      },
      "source": [
        "df.head(20)"
      ],
      "execution_count": null,
      "outputs": []
    },
    {
      "cell_type": "code",
      "metadata": {
        "id": "OmaLi0ZXwfFJ"
      },
      "source": [
        "ax = sns.distplot(df.area_mean)"
      ],
      "execution_count": null,
      "outputs": []
    },
    {
      "cell_type": "code",
      "metadata": {
        "id": "XAQte20t05WX"
      },
      "source": [
        "df.dtypes"
      ],
      "execution_count": null,
      "outputs": []
    }
  ]
}